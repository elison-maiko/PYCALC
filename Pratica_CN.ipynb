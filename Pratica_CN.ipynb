{
 "cells": [
  {
   "attachments": {},
   "cell_type": "markdown",
   "metadata": {},
   "source": [
    "# Calculo Numérico \n",
    "### Deflexão máxima em viga\n"
   ]
  },
  {
   "attachments": {},
   "cell_type": "markdown",
   "metadata": {},
   "source": [
    ">**Discente**: Elison Maiko Oliveira\n",
    ">\n",
    ">**Matrícula**: 22102900\n",
    ">\n",
    ">\n"
   ]
  },
  {
   "attachments": {},
   "cell_type": "markdown",
   "metadata": {},
   "source": [
    "> **CHAPRA, CANALE - Numerical Methods for Engineering**\n",
    ">\n",
    "> **Exercíio 8.20, pag - 240 (pdf)**\n",
    ">\n",
    ">   Problema proposto:\n",
    ">\n",
    "> $$ y = \\dfrac{Wo}{120EIL}\\left(-x^{5}+ 2L^{2}x^{3}-xL^{4}\\right)$$\n",
    ">\n",
    "> A deflexão máxima em viga é atingida no valor de X onde dy/dx = 0\n",
    ">\n",
    "> Usar: \n",
    ">\n",
    "> L = 600 cm\n",
    ">\n",
    "> E = 50.000 kN∕cm2\n",
    ">\n",
    "> I = 30.000 cm4\n",
    ">\n",
    "> E e Wo = 2,5 kN∕cm\n",
    ">\n"
   ]
  },
  {
   "attachments": {},
   "cell_type": "markdown",
   "metadata": {},
   "source": [
    "Seja :\n",
    "        $$ F(x) = \\dfrac{Wo}{120EIL}\\left(-x^{5}+ 2L^{2}x^{3}-xL^{4}\\right)$$\n",
    "\n",
    "No interlavo que confere o tamanho da viga então [0,L] corresponde a [0,600] em cm\n",
    "\n",
    "\n",
    "Considerando $$ \\dfrac{Wo}{120EIL}$$ como uma constante após substituirmos os valores:\n",
    "\n",
    "\n",
    "\n"
   ]
  },
  {
   "cell_type": "code",
   "execution_count": 2,
   "metadata": {},
   "outputs": [
    {
     "name": "stdout",
     "output_type": "stream",
     "text": [
      "Constante Ct: 2.3148148148148147e-14\n",
      "129600000000\n"
     ]
    }
   ],
   "source": [
    "Wo = 2.5\n",
    "L = 600\n",
    "E = 30000\n",
    "I = 50000\n",
    "\n",
    "cte = Wo/(120*L*E*I)\n",
    "ct2 = 600**4\n",
    "print(f\"Constante Ct: {cte}\")\n",
    "print(ct2)\n",
    "\n"
   ]
  },
  {
   "attachments": {},
   "cell_type": "markdown",
   "metadata": {},
   "source": [
    "Logo:\n",
    "        $$ F(x) = cte\\left(-x^{5}+ 7200x^{3}-129600000000x\\right)$$\n",
    "\n",
    "Então temos que a derivada é:\n",
    "        $$ F'(x) = cte\\left(-5x^{4}+ 2160000x^{2}-129600000000\\right)$$\n",
    "\n",
    "Definiremos então:"
   ]
  },
  {
   "cell_type": "code",
   "execution_count": 3,
   "metadata": {},
   "outputs": [
    {
     "name": "stdout",
     "output_type": "stream",
     "text": [
      "0.0005625\n",
      "-0.003\n",
      "3.999999717429832e-11\n"
     ]
    }
   ],
   "source": [
    "import numpy as np\n",
    "import matplotlib.pyplot as plt\n",
    "\n",
    "def f(x):\n",
    "    ## produtos:  9\n",
    "    ## somas : 2\n",
    "    return cte*(-x*x*x*x*x + 7200*x*x*x - 129600000000*x)\n",
    "\n",
    "def df(x):\n",
    "    ## produtos: 7\n",
    "    ## somas: 2\n",
    "    return cte*(-5*x*x*x*x + 2160000*x*x - 129600000000)\n",
    "\n",
    "print(df(300))\n",
    "print(df(0))\n",
    "print(df(599.999999))"
   ]
  },
  {
   "cell_type": "code",
   "execution_count": 50,
   "metadata": {},
   "outputs": [
    {
     "data": {
      "text/plain": [
       "(-0.005, 0.005)"
      ]
     },
     "execution_count": 50,
     "metadata": {},
     "output_type": "execute_result"
    },
    {
     "data": {
      "image/png": "[encoded data removed]",
      "text/plain": [
       "<Figure size 640x480 with 1 Axes>"
      ]
     },
     "metadata": {},
     "output_type": "display_data"
    }
   ],
   "source": [
    "x = np.array(range(600)) ## Pois só nos interessa a parte da equação que se verifica ao longo do comprimento da viga\n",
    "dom = np.linspace(np.min(x),np.max(x),1000)\n",
    "im = [df(t) for t in dom]\n",
    "\n",
    "plt.plot(dom,im,'b')\n",
    "plt.ylim(-0.005, 0.005)\n",
    " \n",
    "\n"
   ]
  },
  {
   "attachments": {},
   "cell_type": "markdown",
   "metadata": {},
   "source": [
    "> Segundo o gráfico da função DF existem 2 raizes ao longo do comprimento da viga L\n",
    "> Um deles é o prórpio extremo L=600, logo acharemos o outro\n",
    ">\n",
    ">**Tempo de execução com o Metodo da BISSECAO:**\n",
    ">\n",
    "\n"
   ]
  },
  {
   "cell_type": "code",
   "execution_count": 11,
   "metadata": {},
   "outputs": [
    {
     "name": "stdout",
     "output_type": "stream",
     "text": [
      "60.7 µs ± 8.42 µs per loop (mean ± std. dev. of 7 runs, 10,000 loops each)\n"
     ]
    }
   ],
   "source": [
    "%%timeit\n",
    "\n",
    "a=0\n",
    "b=600\n",
    "x = (a+b)/2\n",
    "fa =df(a)\n",
    "while abs(a-b)>2**(-30):\n",
    "    \n",
    "    val = df(x)\n",
    "\n",
    "    if val*fa > 0:\n",
    "        a = x\n",
    "        fa = val\n",
    "    else:\n",
    "        b=x\n",
    "\n",
    "    x = (a+b)/2\n",
    "\n"
   ]
  },
  {
   "attachments": {},
   "cell_type": "markdown",
   "metadata": {},
   "source": [
    ">**Output, precisao, e numero de operações com o Metodo da BISSECAO** \n"
   ]
  },
  {
   "cell_type": "code",
   "execution_count": 13,
   "metadata": {},
   "outputs": [
    {
     "name": "stdout",
     "output_type": "stream",
     "text": [
      "Precisão obtida: -6.993258440936053e-15\n",
      "valor da raiz: 268.3281572998567\n",
      "Número total de somas: 163\n",
      "Número total de produtos: 368\n",
      "Número total de comparações: 80\n"
     ]
    }
   ],
   "source": [
    "##=========================IMPRESSÃO DE VALORES==========================\n",
    "\n",
    "a=0\n",
    "b=600\n",
    "x = (a+b)/2\n",
    "somas = 1\n",
    "produtos = 1\n",
    "comparacao = 0\n",
    "fa = df(a)\n",
    "somas += 2\n",
    "produtos +=7\n",
    "\n",
    "\n",
    "while abs(a-b)>2**(-30):\n",
    "    value = df(x)\n",
    "    if value*fa > 0:\n",
    "        a = x\n",
    "        fa = value\n",
    "    else:\n",
    "        b=x\n",
    "    comparacao+=2 #TOTAL POR CICLO\n",
    "    x = (a+b)/2\n",
    "    somas+=4      #TOTAL\n",
    "    produtos+=9   #TOTAL\n",
    "\n",
    "\n",
    "print(f\"Precisão obtida: {value}\")\n",
    "print(f\"valor da raiz: {x}\")\n",
    "print(f\"Número total de somas: {somas}\")\n",
    "print(f\"Número total de produtos: {produtos}\")\n",
    "print(f\"Número total de comparações: {comparacao}\")\n",
    "\n"
   ]
  },
  {
   "attachments": {},
   "cell_type": "markdown",
   "metadata": {},
   "source": [
    "# Metodo de Newton\n",
    "\n",
    "O processo de achar a raiz se deu na função **df** referente a segunda derivada, logo, para aplicarmos o método de Newton em df, precisamos da **ddf** que equivale a derivada da segunda da função inicial obtida\n",
    "\n",
    "\n",
    "Funcial Inicial:\n",
    "        $$ F(x) = cte\\left(-x^{5}+ 7200x^{3}-129600000000x\\right)$$\n",
    "\n",
    "Derivada de F:\n",
    "        $$ F'(x) = cte\\left(-5x^{4}+ 2160000x^{2}-129600000000\\right)$$\n",
    "\n",
    "Derivada da segunda de F:\n",
    "        $$ F''(x) = cte\\left(-20x^{3}+ 4320000x\\right)$$"
   ]
  },
  {
   "attachments": {},
   "cell_type": "markdown",
   "metadata": {},
   "source": [
    "\n",
    "$$ X_{n+1} = X_n - \\dfrac{F'(x)}{F''(x)}$$\n",
    "\n",
    ">Definindo ddf(x):\n"
   ]
  },
  {
   "cell_type": "code",
   "execution_count": 15,
   "metadata": {},
   "outputs": [],
   "source": [
    "def ddf(x):\n",
    "    # somas: 1\n",
    "    # produtos: 5\n",
    "    return cte*(-20*x*x*x + 4320000*x)"
   ]
  },
  {
   "attachments": {},
   "cell_type": "markdown",
   "metadata": {},
   "source": [
    "> Tomando uma aproximação de 250 e iniciando com um chute aleatório de 432, temos;"
   ]
  },
  {
   "cell_type": "code",
   "execution_count": 45,
   "metadata": {},
   "outputs": [
    {
     "name": "stdout",
     "output_type": "stream",
     "text": [
      "7.7 µs ± 1.64 µs per loop (mean ± std. dev. of 7 runs, 100,000 loops each)\n"
     ]
    }
   ],
   "source": [
    "%%timeit\n",
    "\n",
    "x_ant = 432\n",
    "x_aprox = 250\n",
    "\n",
    "while abs(x_ant-x_aprox)>2**-30:\n",
    "    x_ant = x_aprox\n",
    "    x_aprox = x_aprox - (df(x_aprox)/ddf(x_aprox))\n"
   ]
  }
 ],
 "metadata": {
  "kernelspec": {
   "display_name": "Python 3",
   "language": "python",
   "name": "python3"
  },
  "language_info": {
   "codemirror_mode": {
    "name": "ipython",
    "version": 3
   },
   "file_extension": ".py",
   "mimetype": "text/x-python",
   "name": "python",
   "nbconvert_exporter": "python",
   "pygments_lexer": "ipython3",
   "version": "3.11.2"
  },
  "orig_nbformat": 4
 },
 "nbformat": 4,
 "nbformat_minor": 2
}
