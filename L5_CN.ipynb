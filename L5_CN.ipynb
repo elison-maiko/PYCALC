{
 "cells": [
  {
   "attachments": {},
   "cell_type": "markdown",
   "metadata": {},
   "source": [
    "## Questão 01\n",
    " 100%"
   ]
  },
  {
   "cell_type": "code",
   "execution_count": 3,
   "metadata": {},
   "outputs": [],
   "source": [
    "import numpy as np # Importação necessária para as demais questões\n",
    "\n",
    "\n",
    "def newton(f,f_,x):\n",
    "  x = x - f(x)/f_(x)\n",
    "  return x"
   ]
  },
  {
   "attachments": {},
   "cell_type": "markdown",
   "metadata": {},
   "source": [
    "## Questão 02\n",
    "Jeito 1 apresenta mais casas decimais mas não é avaliado pelo moodle"
   ]
  },
  {
   "cell_type": "code",
   "execution_count": 12,
   "metadata": {},
   "outputs": [
    {
     "name": "stdout",
     "output_type": "stream",
     "text": [
      "output esperado: 0.878743452149875\n",
      "obtido: 0.878743452149875\n"
     ]
    }
   ],
   "source": [
    "\n",
    "# =================== jeito 1 =====================\n",
    "# def C(t, p):\n",
    "#    return (75*np.power(np.e,((-1.5)*t)) + 20*np.power(np.e,(-0.075*t))-(p*95))\n",
    "\n",
    "# def dC(t,p):\n",
    "#     return -112*np.e**(-1.5*t) - 1.5*np.e**(0.075*t) - 0.95*p\n",
    "\n",
    "# def lista_5_ex_2 (p):\n",
    "#     t=0\n",
    "#     while True:\n",
    "#         if C(t,p) < 10e-16 :\n",
    "#             return t\n",
    "#         if dC(t,p) == 0:\n",
    "#             break\n",
    "#         t = t - (C(t,p)/dC(t,p))\n",
    "#     return t\n",
    "\n",
    "# ================================= Modo 2 ==============================\n",
    "def lista_5_ex_2 (p):\n",
    "    t=0\n",
    "    for i in range(1000):\n",
    "\n",
    "        if abs(75*np.power(np.e,((-1.5)*t)) + 20*np.power(np.e,(-0.075*t))-(p*95))<10e-16:\n",
    "            return t\n",
    "        if(-112.5*np.e**(-1.5*t)-1.5*np.e**(-0.075*t))==0:\n",
    "            break\n",
    "        t = t - (75*np.power(np.e,((-1.5)*t)) + 20*np.power(np.e,(-0.075*t))-(p*95))/(-112.5*np.e**(-1.5*t)-1.5*np.e**(-0.075*t))\n",
    "    \n",
    "    return t\n",
    "\n",
    "\n",
    "print(\"output esperado: 0.878743452149875\")\n",
    "print(f\"obtido: {lista_5_ex_2(0.4083929236751608)}\")\n"
   ]
  },
  {
   "attachments": {},
   "cell_type": "markdown",
   "metadata": {},
   "source": [
    "## Questão 03\n",
    "100%"
   ]
  },
  {
   "cell_type": "code",
   "execution_count": null,
   "metadata": {},
   "outputs": [],
   "source": [
    "def f(M, c, v, t):\n",
    "    return (9.81*M/c) * (1 - np.e**(-t*c/M)) - v\n",
    "\n",
    "def df(M,c,t):\n",
    "    exp = -c*t/M\n",
    "    return (9.81/c)* (1 - np.e**exp - (c*t*np.e**exp)/M)\n",
    "\n",
    "def lista_5_ex_3 (c,v,t):\n",
    "    if c == 0:\n",
    "        return \"Error, divisão por 0\"\n",
    "    M = 50\n",
    "    Chute  = 100\n",
    "    while abs(M - Chute) > 2**-30:\n",
    "    \n",
    "        Chute = M\n",
    "        M = M - (f(M,c,v,t)/df(M,c,t))\n",
    "\n",
    "    return M"
   ]
  },
  {
   "attachments": {},
   "cell_type": "markdown",
   "metadata": {},
   "source": [
    "## Questão 4\n"
   ]
  },
  {
   "cell_type": "code",
   "execution_count": 21,
   "metadata": {},
   "outputs": [
    {
     "name": "stdout",
     "output_type": "stream",
     "text": [
      "435.00872137400063\n"
     ]
    }
   ],
   "source": [
    "def F4(a,b,v):\n",
    "    return (0.518*233.15)/(v-b)-(a)/(v*(v+b)*np.sqrt(233.15))-65000\n",
    "\n",
    "def DF4(a,b,v):\n",
    "    return (a*(0.0654911*b+0.130982*v))/(v**(2)*(b+v)**(2))-120.772/((b-v)**(2))\n",
    "\n",
    "def lista_5_ex_4(temp_crit, pres_crit):\n",
    "    a = 0.427*(0.268324)*temp_crit**(2.5)/pres_crit\n",
    "    b = 0.0866*(0.518)*temp_crit/pres_crit\n",
    "    v = b+0.0001\n",
    "    delta = b\n",
    "    while abs(v-delta)> 2**-50:\n",
    "        delta = v\n",
    "        v-= F4(a,b,v)/DF4(a,b,v)\n",
    "    return 3/v\n",
    "\n",
    "temp_crit= 532.8 \n",
    "pres_crit= 3785.0 \n",
    "\n",
    "print (lista_5_ex_4(temp_crit, pres_crit))\n"
   ]
  },
  {
   "attachments": {},
   "cell_type": "markdown",
   "metadata": {},
   "source": [
    "## Questão 5\n",
    "Acerto local mas erro no moodle"
   ]
  },
  {
   "cell_type": "code",
   "execution_count": 41,
   "metadata": {},
   "outputs": [
    {
     "name": "stdout",
     "output_type": "stream",
     "text": [
      "output esperado prestacao: 2854.23\n",
      "Obtido: 2854.2385246799995\n",
      "\n",
      "Output esperado tempo: 367\n",
      "Obtido: 0\n",
      "\n",
      "Output esperado juros: 0.02099970\n",
      "Obtido: 0.02099951229939109\n",
      "\n",
      "Output esperado valor: 29999.95\n",
      "Obtido: 29999.910399779914\n",
      "\n"
     ]
    }
   ],
   "source": [
    "def dtempo (j, t, p):\n",
    "    if (j> -1) and (j!= 0):\n",
    "        return  (p*(1 + j)**t * np.log(1+j)) / j\n",
    "\n",
    "def f_cidadao(v, j, t, p):\n",
    "    if j!=0:\n",
    "        return (( (1 - (1+j)**-t)/j) *p) - v\n",
    "\n",
    "def djuros(j, t, p):\n",
    "    if j!=0:\n",
    "        return (p *((j + 1)**(-t - 1) *(j *t + j + 1) - 1))/(j*j)  \n",
    "\n",
    "def calculadora_do_cidadao(valor = None, juros = None, tempo = None, prestacao = None):\n",
    "\n",
    "    # Caso mais fácil: valor (q = none), só jogar na fórmula\n",
    "    if valor == None:\n",
    "        return ( (1 - (1+juros)**-tempo)/juros) *prestacao\n",
    "    \n",
    "    # Caso que a prestação (p) seja None\n",
    "    if prestacao == None:\n",
    "        return (valor*juros)/(1-(1+juros)**-tempo)\n",
    "    \n",
    "    # caso o tempo seja None:\n",
    "    if tempo == None:\n",
    "        tempo = 10\n",
    "        tt = 5\n",
    "        while abs(tempo - tt) > 2**-30:\n",
    "            if dtempo(juros, tempo, prestacao) == 0: # verifica se não ocorrerá divisão por 0\n",
    "                return tempo\n",
    "            tt = tempo\n",
    "            tempo = tempo - (f_cidadao(valor, juros, tempo, prestacao) / dtempo(juros, tempo, prestacao))\n",
    "\n",
    "\n",
    "        return int(round(tempo))\n",
    "    # Juros None\n",
    "    if juros == None:\n",
    "        juros = 0.01\n",
    "        jj = 0.001\n",
    "        while abs(juros - jj)> 2**-30:  \n",
    "            if djuros(juros,tempo,prestacao) == 0: #verifica para não ocorrer divisão por 0\n",
    "                return juros\n",
    "            jj = juros\n",
    "            juros = juros - (f_cidadao(valor, juros, tempo, prestacao)/djuros(juros,tempo,prestacao))\n",
    "        return juros\n",
    "    \n",
    "print(\"output esperado prestacao: 2854.23\")\n",
    "print(f\"Obtido: {calculadora_do_cidadao(valor=30000, juros=0.021, tempo =12)}\\n\")\n",
    "print(\"Output esperado tempo: 367\")\n",
    "print(f\"Obtido: {calculadora_do_cidadao(valor=5538075, juros=0.0018497916865591372, prestacao=20800.838940947033)}\\n\")\n",
    "print(\"Output esperado juros: 0.02099970\")\n",
    "print(f\"Obtido: {calculadora_do_cidadao(valor=30000, tempo=12, prestacao=2854.23)}\\n\")\n",
    "print(\"Output esperado valor: 29999.95\")\n",
    "print(f\"Obtido: {calculadora_do_cidadao( tempo=12,juros=0.021, prestacao=2854.23)}\\n\")\n",
    "\n",
    "\n",
    "    "
   ]
  },
  {
   "attachments": {},
   "cell_type": "markdown",
   "metadata": {},
   "source": [
    "## Questão 6\n"
   ]
  },
  {
   "cell_type": "code",
   "execution_count": 104,
   "metadata": {},
   "outputs": [
    {
     "ename": "KeyboardInterrupt",
     "evalue": "",
     "output_type": "error",
     "traceback": [
      "\u001b[1;31m---------------------------------------------------------------------------\u001b[0m",
      "\u001b[1;31mKeyboardInterrupt\u001b[0m                         Traceback (most recent call last)",
      "Cell \u001b[1;32mIn[104], line 25\u001b[0m\n\u001b[0;32m     23\u001b[0m t1\u001b[39m=\u001b[39m\u001b[39m391490910681505986641730499387913199774397165810712330562\u001b[39m\n\u001b[0;32m     24\u001b[0m t \u001b[39m=\u001b[39m \u001b[39m2887508349\u001b[39m \n\u001b[1;32m---> 25\u001b[0m \u001b[39mprint\u001b[39m (lista_5_ex_6_lap(t))\n\u001b[0;32m     28\u001b[0m \u001b[39m# def op_lap(op,n):\u001b[39;00m\n\u001b[0;32m     29\u001b[0m \u001b[39m#     a=3*n+2\u001b[39;00m\n\u001b[0;32m     30\u001b[0m \u001b[39m#     while (a)-op<0:\u001b[39;00m\n\u001b[0;32m     31\u001b[0m \u001b[39m#         n=n+1\u001b[39;00m\n\u001b[0;32m     32\u001b[0m \u001b[39m#         a=3*n+2+(n+1)*a\u001b[39;00m\n\u001b[0;32m     33\u001b[0m \u001b[39m#     return n\u001b[39;00m\n",
      "Cell \u001b[1;32mIn[104], line 20\u001b[0m, in \u001b[0;36mlista_5_ex_6_lap\u001b[1;34m(t)\u001b[0m\n\u001b[0;32m     18\u001b[0m \u001b[39mwhile\u001b[39;00m (operacoes \u001b[39m-\u001b[39m cont) \u001b[39m>\u001b[39m \u001b[39m0\u001b[39m:\n\u001b[0;32m     19\u001b[0m     n\u001b[39m+\u001b[39m\u001b[39m=\u001b[39m\u001b[39m1\u001b[39m\n\u001b[1;32m---> 20\u001b[0m     cont \u001b[39m*\u001b[39m\u001b[39m=\u001b[39m l(n)\n\u001b[0;32m     21\u001b[0m \u001b[39mreturn\u001b[39;00m n\n",
      "Cell \u001b[1;32mIn[104], line 5\u001b[0m, in \u001b[0;36ml\u001b[1;34m(n)\u001b[0m\n\u001b[0;32m      1\u001b[0m \u001b[39m# Expansão de Laplace:\u001b[39;00m\n\u001b[0;32m      2\u001b[0m \u001b[39m# ℓ(1) = 0  (n=0)\u001b[39;00m\n\u001b[0;32m      3\u001b[0m \u001b[39m# ℓ(n + 1) = (n + 1)ℓ(n) + 3n + 2.\u001b[39;00m\n\u001b[1;32m----> 5\u001b[0m \u001b[39mdef\u001b[39;00m \u001b[39ml\u001b[39m(n):\n\u001b[0;32m      6\u001b[0m     \u001b[39mif\u001b[39;00m n \u001b[39m==\u001b[39m \u001b[39m0\u001b[39m:\n\u001b[0;32m      7\u001b[0m         \u001b[39mreturn\u001b[39;00m \u001b[39m0\u001b[39m\n",
      "\u001b[1;31mKeyboardInterrupt\u001b[0m: "
     ]
    }
   ],
   "source": [
    "# Expansão de Laplace:\n",
    "# ℓ(1) = 0  (n=0)\n",
    "# ℓ(n + 1) = (n + 1)ℓ(n) + 3n + 2.\n",
    "\n",
    "def l(n):\n",
    "    if n == 1:\n",
    "        return 0\n",
    "    else:\n",
    "        return (n+1)*l(n-1) + 3*n + 2\n",
    "         \n",
    "\n",
    "def lista_5_ex_6_lap(t):\n",
    "    n=0\n",
    "    operacoes = t*(10**8)\n",
    "    cont = 0\n",
    "    while (operacoes - cont) > 0:\n",
    "        n+=1\n",
    "        cont *= l(n)\n",
    "    return n\n",
    "\n",
    "t1=391490910681505986641730499387913199774397165810712330562\n",
    "t = 2887508349 \n",
    "print (lista_5_ex_6_lap(t))\n",
    "\n",
    "\n",
    "# def op_lap(op,n):\n",
    "#     a=3*n+2\n",
    "#     while (a)-op<0:\n",
    "#         n=n+1\n",
    "#         a=3*n+2+(n+1)*a\n",
    "#     return n\n"
   ]
  }
 ],
 "metadata": {
  "kernelspec": {
   "display_name": "Python 3",
   "language": "python",
   "name": "python3"
  },
  "language_info": {
   "codemirror_mode": {
    "name": "ipython",
    "version": 3
   },
   "file_extension": ".py",
   "mimetype": "text/x-python",
   "name": "python",
   "nbconvert_exporter": "python",
   "pygments_lexer": "ipython3",
   "version": "3.11.3"
  },
  "orig_nbformat": 4
 },
 "nbformat": 4,
 "nbformat_minor": 2
}
