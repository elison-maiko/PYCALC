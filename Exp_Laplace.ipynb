{
 "cells": [
  {
   "cell_type": "code",
   "execution_count": null,
   "metadata": {},
   "outputs": [],
   "source": []
  },
  {
   "cell_type": "code",
   "execution_count": 15,
   "metadata": {},
   "outputs": [
    {
     "name": "stdout",
     "output_type": "stream",
     "text": [
      "O determinante da matriz é: 11\n"
     ]
    }
   ],
   "source": [
    "matriz1 = [[1, 2, 3, 4, 5, 6, 7, 8, 9, 10, 11],\n",
    "          [12, 13, 14, 15, 16, 17, 18, 19, 20, 21, 22],\n",
    "          [23, 24, 25, 26, 27, 28, 29, 30, 31, 32, 33],\n",
    "          [34, 35, 36, 37, 38, 39, 40, 41, 42, 43, 44],\n",
    "          [45, 46, 47, 48, 49, 50, 51, 52, 53, 54, 55],\n",
    "          [56, 57, 58, 59, 60, 61, 62, 63, 64, 65, 66],\n",
    "          [67, 68, 69, 70, 71, 72, 73, 74, 75, 76, 77],\n",
    "          [78, 79, 80, 81, 82, 83, 84, 85, 86, 87, 88],\n",
    "          [89, 90, 91, 92, 93, 94, 95, 96, 97, 98, 99],\n",
    "          [100, 101, 102, 103, 104, 105, 106, 107, 108, 109, 110],\n",
    "          [111, 112, 113, 114, 115, 116, 117, 118, 119, 120, 121]]\n",
    "\n",
    "\n",
    "matriz = [[1, 2, 1, 0],\n",
    "          [3, 4, 0, 0],\n",
    "          [1, -1, 2, 0],\n",
    "          [0, 0, 0, -1]]\n",
    "\n",
    "def det(mat):\n",
    "    \"\"\"\n",
    "    Calcula o determinante da matriz quadrada mat por Expansão de Laplace na primeira linha.\n",
    "    \"\"\"\n",
    "    n = len(mat)\n",
    "    if n == 1:\n",
    "        return mat[0][0]\n",
    "    elif n == 2:\n",
    "        return mat[0][0]*mat[1][1] - mat[0][1]*mat[1][0]\n",
    "    else:\n",
    "        determinant = 0\n",
    "        for j in range(n):\n",
    "            cofactor = (-1)**j * mat[0][j]\n",
    "            submatrix = [[mat[i][k] for k in range(n) if k != j] for i in range(1, n)]\n",
    "            subdeterminant = det(submatrix)\n",
    "            determinant += cofactor * subdeterminant\n",
    "        return determinant\n",
    "    \n",
    "\n",
    "determinante = det(matriz)\n",
    "\n",
    "print(\"O determinante da matriz é:\", determinante)"
   ]
  },
  {
   "cell_type": "code",
   "execution_count": null,
   "metadata": {},
   "outputs": [],
   "source": []
  }
 ],
 "metadata": {
  "kernelspec": {
   "display_name": "Python 3",
   "language": "python",
   "name": "python3"
  },
  "language_info": {
   "codemirror_mode": {
    "name": "ipython",
    "version": 3
   },
   "file_extension": ".py",
   "mimetype": "text/x-python",
   "name": "python",
   "nbconvert_exporter": "python",
   "pygments_lexer": "ipython3",
   "version": "3.11.3"
  },
  "orig_nbformat": 4
 },
 "nbformat": 4,
 "nbformat_minor": 2
}
