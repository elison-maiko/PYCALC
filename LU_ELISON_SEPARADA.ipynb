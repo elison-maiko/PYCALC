{
 "cells": [
  {
   "cell_type": "code",
   "execution_count": 33,
   "metadata": {},
   "outputs": [],
   "source": [
    "import numpy as np\n",
    "\n",
    "def solve_triangular_inferior(L, B):\n",
    "    \"\"\"Resolve um sistema triangular inferior do tipo Ux + B.\"\"\"\n",
    "\n",
    "    n = L.shape[0]          # Ordem da matriz\n",
    "\n",
    "    # Cópias usuais para evitar problemas\n",
    "    X = B.copy().reshape(n)\n",
    "\n",
    "    # Vai linha-a-linha, de ****cima para baixo***, escalonando a matriz utilizando o pivô na diagonal\n",
    "    for i in range(n):\n",
    "        for j in range(i):\n",
    "            X[i] -= L[i,j] * X[j] # Pivoteia a i-ésima coluna, utilizando a entrada diagonal como pivô\n",
    "        X[i] /= L[i,i]     # Normaliza a i-ésima linha\n",
    "\n",
    "    return X\n"
   ]
  },
  {
   "attachments": {},
   "cell_type": "markdown",
   "metadata": {},
   "source": [
    "Para testar essa função, vamos criar uma matriz triangular inferior $L$ e um vetor $x$ aleatórios, e verificar se o retorno $x$ dessa função satisfaz $Ly=x$."
   ]
  },
  {
   "cell_type": "code",
   "execution_count": 42,
   "metadata": {},
   "outputs": [
    {
     "name": "stdout",
     "output_type": "stream",
     "text": [
      "\n",
      "A matriz L é dada por\n",
      "[[-6.87706406  0.          0.          0.        ]\n",
      " [ 8.91522971  4.16946918  0.          0.        ]\n",
      " [-7.17137731 -5.8557376  -8.22289805  0.        ]\n",
      " [-7.30279921  5.47971039  4.4530871   4.56334494]]\n",
      "\n",
      "O vetor b é dada por\n",
      "[-8.32543546  5.06935459 -1.0206757  -0.18596201]\n",
      "\n",
      "O vetor y é dada por\n",
      "[ 1.21060897 -1.3727173   0.04587365  3.50021451]\n",
      "\n",
      "O vetor Lx é dada por\n",
      "[-8.32543546  5.06935459 -1.0206757  -0.18596201]\n"
     ]
    }
   ],
   "source": [
    "L = 20*np.random.rand(4,4) -10 # Matriz triangular aleatória com entradas em [-10,10]\n",
    "\n",
    "for i in range(4):\n",
    "    for j in range(i):\n",
    "        L[j,i]=0.0        # Aniquila as entradas abaixo da diagonal principal para deixar triangular inferior\n",
    "        \n",
    "        \n",
    "b = 20*np.random.rand(4) - 10 # Vetor aleatório com entradas em [-10,10]\n",
    "\n",
    "y = solve_triangular_inferior(L,b) # Solução pretendida do sistema Ux = b\n",
    "\n",
    "print(f\"\\nA matriz L é dada por\\n{L}\")\n",
    "print(f\"\\nO vetor b é dada por\\n{b}\")\n",
    "print(f\"\\nO vetor y é dada por\\n{y}\")\n",
    "print(f\"\\nO vetor Lx é dada por\\n{L@y}\")"
   ]
  }
 ],
 "metadata": {
  "kernelspec": {
   "display_name": "Python 3",
   "language": "python",
   "name": "python3"
  },
  "language_info": {
   "codemirror_mode": {
    "name": "ipython",
    "version": 3
   },
   "file_extension": ".py",
   "mimetype": "text/x-python",
   "name": "python",
   "nbconvert_exporter": "python",
   "pygments_lexer": "ipython3",
   "version": "3.11.3"
  },
  "orig_nbformat": 4
 },
 "nbformat": 4,
 "nbformat_minor": 2
}
