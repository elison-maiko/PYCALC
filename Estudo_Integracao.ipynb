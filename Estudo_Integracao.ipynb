{
 "cells": [
  {
   "cell_type": "code",
   "execution_count": 2,
   "metadata": {},
   "outputs": [],
   "source": [
    "import numpy as np\n",
    "import matplotlib.pyplot as plt"
   ]
  },
  {
   "attachments": {},
   "cell_type": "markdown",
   "metadata": {},
   "source": [
    "### Integral Simples por soma de Riemman"
   ]
  },
  {
   "cell_type": "code",
   "execution_count": 2,
   "metadata": {},
   "outputs": [],
   "source": [
    "def Soma_Riemman(f, a, b, n):\n",
    "    \"\"\"\n",
    "    Calcula a integral de uma função f no intervalo [a, b] usando a soma de Riemann.\n",
    "\n",
    "    Parâmetros:\n",
    "        - f: função a ser integrada.\n",
    "        - a: limite inferior do intervalo.\n",
    "        - b: limite superior do intervalo.\n",
    "        - n: número de subintervalos\n",
    "\n",
    "    \"\"\"\n",
    "\n",
    "    base = (b - a) / n\n",
    "    integral = 0.0\n",
    "\n",
    "    for i in range(n):\n",
    "        x = a + i * base\n",
    "        integral += f(x) * base\n",
    "\n",
    "    return integral\n"
   ]
  },
  {
   "cell_type": "code",
   "execution_count": 6,
   "metadata": {},
   "outputs": [
    {
     "name": "stdout",
     "output_type": "stream",
     "text": [
      "Aproximação da integral: 3.992003999999997\n"
     ]
    }
   ],
   "source": [
    "def g(x):\n",
    "    return x**3\n",
    "\n",
    "print(\"Aproximação da integral:\", Soma_Riemman(g, 0, 2, 1000))"
   ]
  }
 ],
 "metadata": {
  "kernelspec": {
   "display_name": "Python 3",
   "language": "python",
   "name": "python3"
  },
  "language_info": {
   "codemirror_mode": {
    "name": "ipython",
    "version": 3
   },
   "file_extension": ".py",
   "mimetype": "text/x-python",
   "name": "python",
   "nbconvert_exporter": "python",
   "pygments_lexer": "ipython3",
   "version": "3.11.3"
  },
  "orig_nbformat": 4
 },
 "nbformat": 4,
 "nbformat_minor": 2
}
